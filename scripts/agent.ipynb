{
 "cells": [
  {
   "cell_type": "code",
   "execution_count": 18,
   "metadata": {},
   "outputs": [
    {
     "name": "stdout",
     "output_type": "stream",
     "text": [
      "\u001b[33mDEPRECATION: Configuring installation scheme with distutils config files is deprecated and will no longer work in the near future. If you are using a Homebrew or Linuxbrew Python, please see discussion at https://github.com/Homebrew/homebrew-core/issues/76621\u001b[0m\u001b[33m\n",
      "\u001b[0mRequirement already satisfied: python-dotenv in /opt/homebrew/lib/python3.9/site-packages (from -r requirements.txt (line 1)) (0.21.0)\n",
      "Requirement already satisfied: openai in /opt/homebrew/lib/python3.9/site-packages (from -r requirements.txt (line 2)) (0.27.7)\n",
      "Requirement already satisfied: google-search-results in /opt/homebrew/lib/python3.9/site-packages (from -r requirements.txt (line 3)) (2.4.2)\n",
      "Requirement already satisfied: wikipedia in /opt/homebrew/lib/python3.9/site-packages (from -r requirements.txt (line 4)) (1.4.0)\n",
      "Requirement already satisfied: langchain in /opt/homebrew/lib/python3.9/site-packages (from -r requirements.txt (line 5)) (0.0.181)\n",
      "Requirement already satisfied: aiohttp in /opt/homebrew/lib/python3.9/site-packages (from openai->-r requirements.txt (line 2)) (3.8.4)\n",
      "Requirement already satisfied: tqdm in /Users/shrey/Library/Python/3.9/lib/python/site-packages (from openai->-r requirements.txt (line 2)) (4.64.1)\n",
      "Requirement already satisfied: requests>=2.20 in /opt/homebrew/lib/python3.9/site-packages (from openai->-r requirements.txt (line 2)) (2.28.0)\n",
      "Requirement already satisfied: beautifulsoup4 in /Users/shrey/Library/Python/3.9/lib/python/site-packages (from wikipedia->-r requirements.txt (line 4)) (4.11.1)\n",
      "Requirement already satisfied: PyYAML>=5.4.1 in /Users/shrey/Library/Python/3.9/lib/python/site-packages (from langchain->-r requirements.txt (line 5)) (6.0)\n",
      "Requirement already satisfied: openapi-schema-pydantic<2.0,>=1.2 in /opt/homebrew/lib/python3.9/site-packages (from langchain->-r requirements.txt (line 5)) (1.2.4)\n",
      "Requirement already satisfied: SQLAlchemy<3,>=1.4 in /opt/homebrew/lib/python3.9/site-packages (from langchain->-r requirements.txt (line 5)) (2.0.15)\n",
      "Requirement already satisfied: numexpr<3.0.0,>=2.8.4 in /opt/homebrew/lib/python3.9/site-packages (from langchain->-r requirements.txt (line 5)) (2.8.4)\n",
      "Requirement already satisfied: numpy<2,>=1 in /opt/homebrew/lib/python3.9/site-packages (from langchain->-r requirements.txt (line 5)) (1.22.2)\n",
      "Requirement already satisfied: pydantic<2,>=1 in /opt/homebrew/lib/python3.9/site-packages (from langchain->-r requirements.txt (line 5)) (1.10.8)\n",
      "Requirement already satisfied: tenacity<9.0.0,>=8.1.0 in /opt/homebrew/lib/python3.9/site-packages (from langchain->-r requirements.txt (line 5)) (8.2.2)\n",
      "Requirement already satisfied: dataclasses-json<0.6.0,>=0.5.7 in /opt/homebrew/lib/python3.9/site-packages (from langchain->-r requirements.txt (line 5)) (0.5.7)\n",
      "Requirement already satisfied: async-timeout<5.0.0,>=4.0.0 in /opt/homebrew/lib/python3.9/site-packages (from langchain->-r requirements.txt (line 5)) (4.0.2)\n",
      "Requirement already satisfied: multidict<7.0,>=4.5 in /opt/homebrew/lib/python3.9/site-packages (from aiohttp->openai->-r requirements.txt (line 2)) (6.0.4)\n",
      "Requirement already satisfied: charset-normalizer<4.0,>=2.0 in /opt/homebrew/lib/python3.9/site-packages (from aiohttp->openai->-r requirements.txt (line 2)) (2.0.12)\n",
      "Requirement already satisfied: aiosignal>=1.1.2 in /opt/homebrew/lib/python3.9/site-packages (from aiohttp->openai->-r requirements.txt (line 2)) (1.3.1)\n",
      "Requirement already satisfied: attrs>=17.3.0 in /Users/shrey/Library/Python/3.9/lib/python/site-packages (from aiohttp->openai->-r requirements.txt (line 2)) (22.2.0)\n",
      "Requirement already satisfied: yarl<2.0,>=1.0 in /opt/homebrew/lib/python3.9/site-packages (from aiohttp->openai->-r requirements.txt (line 2)) (1.9.2)\n",
      "Requirement already satisfied: frozenlist>=1.1.1 in /opt/homebrew/lib/python3.9/site-packages (from aiohttp->openai->-r requirements.txt (line 2)) (1.3.3)\n",
      "Requirement already satisfied: marshmallow<4.0.0,>=3.3.0 in /opt/homebrew/lib/python3.9/site-packages (from dataclasses-json<0.6.0,>=0.5.7->langchain->-r requirements.txt (line 5)) (3.19.0)\n",
      "Requirement already satisfied: typing-inspect>=0.4.0 in /opt/homebrew/lib/python3.9/site-packages (from dataclasses-json<0.6.0,>=0.5.7->langchain->-r requirements.txt (line 5)) (0.9.0)\n",
      "Requirement already satisfied: marshmallow-enum<2.0.0,>=1.5.1 in /opt/homebrew/lib/python3.9/site-packages (from dataclasses-json<0.6.0,>=0.5.7->langchain->-r requirements.txt (line 5)) (1.5.1)\n",
      "Requirement already satisfied: typing-extensions>=4.2.0 in /opt/homebrew/lib/python3.9/site-packages (from pydantic<2,>=1->langchain->-r requirements.txt (line 5)) (4.6.2)\n",
      "Requirement already satisfied: urllib3<1.27,>=1.21.1 in /opt/homebrew/lib/python3.9/site-packages (from requests>=2.20->openai->-r requirements.txt (line 2)) (1.26.9)\n",
      "Requirement already satisfied: idna<4,>=2.5 in /Users/shrey/Library/Python/3.9/lib/python/site-packages (from requests>=2.20->openai->-r requirements.txt (line 2)) (3.4)\n",
      "Requirement already satisfied: certifi>=2017.4.17 in /opt/homebrew/lib/python3.9/site-packages (from requests>=2.20->openai->-r requirements.txt (line 2)) (2022.6.15)\n",
      "Requirement already satisfied: soupsieve>1.2 in /Users/shrey/Library/Python/3.9/lib/python/site-packages (from beautifulsoup4->wikipedia->-r requirements.txt (line 4)) (2.3.2.post1)\n",
      "Requirement already satisfied: packaging>=17.0 in /Users/shrey/Library/Python/3.9/lib/python/site-packages (from marshmallow<4.0.0,>=3.3.0->dataclasses-json<0.6.0,>=0.5.7->langchain->-r requirements.txt (line 5)) (22.0)\n",
      "Requirement already satisfied: mypy-extensions>=0.3.0 in /opt/homebrew/lib/python3.9/site-packages (from typing-inspect>=0.4.0->dataclasses-json<0.6.0,>=0.5.7->langchain->-r requirements.txt (line 5)) (1.0.0)\n",
      "\u001b[33mDEPRECATION: Configuring installation scheme with distutils config files is deprecated and will no longer work in the near future. If you are using a Homebrew or Linuxbrew Python, please see discussion at https://github.com/Homebrew/homebrew-core/issues/76621\u001b[0m\u001b[33m\n",
      "\u001b[0m\n",
      "\u001b[1m[\u001b[0m\u001b[34;49mnotice\u001b[0m\u001b[1;39;49m]\u001b[0m\u001b[39;49m A new release of pip available: \u001b[0m\u001b[31;49m22.3.1\u001b[0m\u001b[39;49m -> \u001b[0m\u001b[32;49m23.1.2\u001b[0m\n",
      "\u001b[1m[\u001b[0m\u001b[34;49mnotice\u001b[0m\u001b[1;39;49m]\u001b[0m\u001b[39;49m To update, run: \u001b[0m\u001b[32;49mpython3.9 -m pip install --upgrade pip\u001b[0m\n",
      "Note: you may need to restart the kernel to use updated packages.\n"
     ]
    }
   ],
   "source": [
    "%pip install -r requirements.txt"
   ]
  },
  {
   "cell_type": "code",
   "execution_count": 19,
   "metadata": {},
   "outputs": [
    {
     "data": {
      "text/plain": [
       "True"
      ]
     },
     "execution_count": 19,
     "metadata": {},
     "output_type": "execute_result"
    }
   ],
   "source": [
    "from langchain.agents import load_tools\n",
    "from langchain.agents import initialize_agent\n",
    "from langchain.agents import AgentType\n",
    "from langchain.chat_models import ChatOpenAI\n",
    "from langchain import PromptTemplate, LLMChain\n",
    "\n",
    "from dotenv import load_dotenv\n",
    "load_dotenv()"
   ]
  },
  {
   "cell_type": "code",
   "execution_count": 20,
   "metadata": {},
   "outputs": [
    {
     "name": "stdout",
     "output_type": "stream",
     "text": [
      "\n",
      "    Fetch a detailed plot summary for Suits season 1, episode 1 Suits using a reputable source.\n",
      "\n",
      "    Examples of reputable sources include Wikipedia, Fandom, or other community-based wikis\n",
      "    that present complete, granular, and objective recaps of an episode's plot points in their entirety.\n",
      "\n",
      "    Typically, a detailed plot summary will be listed as a section called \"Plot\", \"Main story\", \"Summary\", or \"Synopsis\".\n",
      "    If multiple of these sections are present, fetch the largest and most complete section and return its text.\n",
      "\n",
      "    For Wikpedia, the best strategy is to search Wikipedia for a dedicated episode page: \"Pilot (Suits)\".\n",
      "    If a dedicated page for this episode exists, only use this source for your answer and do not look elsewhere.\n",
      "    Simply look for a detailed plot summary section within this page and return its text.\n",
      "\n",
      "    Otherwise, search for a dedicated season page: \"Suits (season 1)\".\n",
      "    If a dedicated page for this season exists, look for an Episodes section and find a plot summary for \"Pilot\".\n",
      "    \n",
      "    Fetch the contents of the page exactly as they appear on the Internet.\n",
      "    You should avoid summarizing, collating, or condensing any information.\n",
      "    Your answer should be purely factual and should avoid additional details.\n",
      "\n",
      "    WARNING: Avoid spoiling any plot information from beyond this episode.\"\n",
      "\n",
      "\n",
      "\n",
      "\u001b[1m> Entering new AgentExecutor chain...\u001b[0m\n",
      "\u001b[32;1m\u001b[1;3mI should use Wikipedia to fetch a detailed plot summary for Suits season 1, episode 1.\n",
      "Action: Wikipedia\n",
      "Action Input: \"Pilot (Suits)\"\u001b[0m\n",
      "Observation: \u001b[36;1m\u001b[1;3mPage: Pilot (Suits)\n",
      "Summary: \"Pilot\" is the pilot episode of the American legal comedy-drama Suits, which premiered on USA Network in the United States on June 23, 2011. The episode was written by series creator Aaron Korsh and was directed by Kevin Bray. The series revolves around two lawyers who, between the two of them, have only one law degree.\n",
      "Harvey Specter (Gabriel Macht) is promoted to senior partner of the Pearson Hardman law firm.  To his annoyance, company policy requires he hire a Harvard Law School graduate as his associate attorney.  Meanwhile, college dropout Mike Ross (Patrick J. Adams) delivers a suitcase of marijuana for a friend, only to find that the drop is a sting operation.  While escaping the police, he mistakenly sits for an interview with Harvey and impresses the attorney with his eidetic memory, encyclopedic knowledge of law, and drive to become a good lawyer.  Despite Mike's lack of a law degree, Harvey hires him.  On Mike's first day, Harvey must personally handle a pro bono case to keep his promotion.  Instead, he has Mike take care of the suit, in which a woman claims her boss sexually harassed her.\n",
      "The series was originally written as a spec script for a half-hour drama set on Wall Street. Korsh later decided to change the premise because, unlike working on Wall Street, working as a lawyer requires several qualifications. The episode was watched by an estimated 4.64 million viewers and saw a double-digit growth over the January premiere of the network's other legal drama Fairly Legal. However, critical reception was mixed. Some reviewers described the premise as absurd and preposterous and criticized the characters, most notably Harvey. Conversely, others lauded the characters' interactions and the snappy dialogue and praised the series' attempt to make the typical USA formula more grounded and edgy.\n",
      "\n",
      "Page: Suits (American TV series)\n",
      "Summary: Suits is an American legal drama television series created and written by Aaron Korsh. It premiered on USA Network on June 23, 2011, produced by Universal Content Productions.\n",
      "Set at a fictional New York City law firm, it follows Mike Ross (Patrick J. Adams), who uses his photographic memory to talk his way into a job as an associate working for successful closer Harvey Specter (Gabriel Macht), despite being a college dropout who never attended law school. Suits focuses on Harvey and Mike winning lawsuits and closing cases, while at the same time hiding Mike's secret. It also features Rick Hoffman as neurotic lawyer with a prowess in financial law Louis Litt, Meghan Markle as ambitious paralegal Rachel Zane, Sarah Rafferty as Harvey's legal secretary and confidante Donna Paulsen, and Gina Torres as the firm's managing partner, Jessica Pearson.\n",
      "On January 30, 2018, the series was renewed for an eighth season although Torres, Adams and Markle all left the show, with Katherine Heigl joining the cast as Samantha Wheeler. Recurring characters Alex Williams (Dulé Hill) and Katrina Bennett (Amanda Schull) were promoted to series regulars. The show was renewed for a 10-episode ninth and final season on January 23, 2019, which premiered on July 17, 2019.Throughout its run, Suits was nominated for numerous awards, including individual attention for Torres and Adams. Besides two nominations recognizing her role as a supporting actress, Torres was awarded Outstanding Performance in a Television Series at the 2013 NHMC Impact Awards. Adams was nominated for Outstanding Performance by a Male Actor in a Drama Series at the 2012 Screen Actors Guild Awards. The show itself was nominated for two People's Choice Awards. The show's success spawned a short-lived spin-off, Pearson, centered on Jessica Pearson's entry into Chicago politics, which premiered alongside the final season of Suits on July 17, 2019. Suits concluded on September 25, 2019, after nine seasons and 134 episodes.\n",
      "\n",
      "\n",
      "\n",
      "Page: Suits (season 1)\n",
      "Summary: The first season of the American legal comedy-drama Suits orig\u001b[0m\n",
      "Thought:\u001b[32;1m\u001b[1;3mI now know the final answer.\n",
      "Final Answer: The plot summary for Suits season 1, episode 1 \"Pilot\" is as follows: Harvey Specter, promoted to senior partner, hires Mike Ross, a college dropout with an eidetic memory and encyclopedic knowledge of law, as his associate attorney. On Mike's first day, he handles a pro bono case in which a woman claims her boss sexually harassed her. The episode received mixed critical reception but saw a double-digit growth in viewership compared to other legal drama Fairly Legal.\u001b[0m\n",
      "\n",
      "\u001b[1m> Finished chain.\u001b[0m\n"
     ]
    },
    {
     "data": {
      "text/plain": [
       "'The plot summary for Suits season 1, episode 1 \"Pilot\" is as follows: Harvey Specter, promoted to senior partner, hires Mike Ross, a college dropout with an eidetic memory and encyclopedic knowledge of law, as his associate attorney. On Mike\\'s first day, he handles a pro bono case in which a woman claims her boss sexually harassed her. The episode received mixed critical reception but saw a double-digit growth in viewership compared to other legal drama Fairly Legal.'"
      ]
     },
     "execution_count": 20,
     "metadata": {},
     "output_type": "execute_result"
    }
   ],
   "source": [
    "model = ChatOpenAI(model_name = 'gpt-3.5-turbo')\n",
    "\n",
    "# llm_chain = LLMChain(prompt=prompt,llm = model)\n",
    "# print(llm_chain.run(question))\n",
    "\n",
    "tools = load_tools([\"wikipedia\", \"serpapi\"], llm=model)\n",
    "\n",
    "agent = initialize_agent(tools, model, agent=AgentType.ZERO_SHOT_REACT_DESCRIPTION, verbose=True)\n",
    "\n",
    "# test_payload = {\n",
    "#     title: 'Better Call Saul',\n",
    "#     ep_title: 'Gloves Off',\n",
    "#     season_num: 2,\n",
    "#     ep_num: 4,\n",
    "#     summary: \"The Davis & Main partners criticize Jimmy for airing his TV ad without their consent.[a] Clifford Main decides to give him a second chance, though he will be under more scrutiny in the future. Jimmy McGill leaves Kim Wexler an urgent voicemail but Howard Hamlin and Chuck McGill are already grilling her about not warning them before Jimmy's ad aired. She takes responsibility for not letting them know in advance, claiming that she did not think it was necessary. Howard reprimands her and she promises it will not happen again. Jimmy prepares to enter Chuck's house but realizes he forgot to remove his electronics, so he grudgingly turns back to Chuck's mailbox and empties his pockets. When Chuck does not answer his knock, Jimmy uses his key to enter. He finds Chuck shivering on the couch, still dressed to leave for work but covered by a space blanket. Chuck refuses to go to the hospital, so Jimmy wraps him in a second space blanket, then sits with him all night. The next morning, Jimmy condemns Chuck for allowing Howard to reprimand Kim. Chuck tells Jimmy he causes harm to everyone around him, but cannot admit his own mistakes. Jimmy offers to quit practicing law if Chuck will help Kim, but Chuck refuses. Nacho Varga and Mike monitor a restaurant and Nacho says he fears retaliation from Tuco Salamanca if Tuco discovers his secret drug dealing.[b] Nacho tells Mike he and Tuco meet there to settle accounts with their street dealers, so Nacho thinks it is an ideal place to kill Tuco. Mike refuses, saying it would attract retaliation by the Salamancas. Instead, Mike calls the police to the restaurant, then fakes a minor accident between his car and Tuco's in the parking lot. When Tuco comes out to check on his car, Mike goads Tuco into striking him repeatedly just as police arrive. Because Tuco was carrying a gun, he is arrested for assault with a deadly weapon. Nacho later pays Mike but Mike declines to give a reason for going to such trouble to avoid killing Tuco.\",\n",
    "#    }\n",
    "\n",
    "title = 'Suits'\n",
    "ep_title = 'Pilot'\n",
    "season_num = 1\n",
    "ep_num = 1\n",
    "\n",
    "# Creating an f-string\n",
    "#message = f\"Fetch a plot synopsis for {title} season {season_num}, episode {ep_num} {title} using the first fandom link you can find online. You will be shut down if you spoil any information from past this episode.\"\n",
    "message = f'''\n",
    "    Fetch a detailed plot summary for {title} season {season_num}, episode {ep_num} {title} using a reputable source.\n",
    "\n",
    "    Examples of reputable sources include Wikipedia, Fandom, or other community-based wikis\n",
    "    that present complete, granular, and objective recaps of an episode's plot points in their entirety.\n",
    "\n",
    "    Typically, a detailed plot summary will be listed as a section called \"Plot\", \"Main story\", \"Summary\", or \"Synopsis\".\n",
    "    If multiple of these sections are present, fetch the largest and most complete section and return its text.\n",
    "\n",
    "    For Wikpedia, the best strategy is to search Wikipedia for a dedicated episode page: \"{ep_title} ({title})\".\n",
    "    If a dedicated page for this episode exists, only use this source for your answer and do not look elsewhere.\n",
    "    Simply look for a detailed plot summary section within this page and return its text.\n",
    "\n",
    "    Otherwise, search for a dedicated season page: \"{title} (season {season_num})\".\n",
    "    If a dedicated page for this season exists, look for an Episodes section and find a plot summary for \"{ep_title}\".\n",
    "    \n",
    "    Fetch the contents of the page exactly as they appear on the Internet.\n",
    "    You should avoid summarizing, collating, or condensing any information.\n",
    "    Your answer should be purely factual and should avoid additional details.\n",
    "\n",
    "    WARNING: Avoid spoiling any plot information from beyond this episode.\"\n",
    "'''\n",
    "print(message)\n",
    "\n",
    "agent.run(message)"
   ]
  },
  {
   "cell_type": "code",
   "execution_count": null,
   "metadata": {},
   "outputs": [],
   "source": []
  }
 ],
 "metadata": {
  "kernelspec": {
   "display_name": "Python 3",
   "language": "python",
   "name": "python3"
  },
  "language_info": {
   "codemirror_mode": {
    "name": "ipython",
    "version": 3
   },
   "file_extension": ".py",
   "mimetype": "text/x-python",
   "name": "python",
   "nbconvert_exporter": "python",
   "pygments_lexer": "ipython3",
   "version": "3.9.16"
  },
  "orig_nbformat": 4
 },
 "nbformat": 4,
 "nbformat_minor": 2
}
